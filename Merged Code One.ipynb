{
 "cells": [
  {
   "cell_type": "code",
   "execution_count": 34,
   "id": "bbcc7210",
   "metadata": {},
   "outputs": [],
   "source": [
    "import os\n",
    "import pandas as pd"
   ]
  },
  {
   "cell_type": "code",
   "execution_count": 35,
   "id": "9ccfb63d",
   "metadata": {},
   "outputs": [],
   "source": [
    "folder_path = 'C:\\\\Users\\\\internpids\\\\Downloads\\\\NEED Attention\\\\NEED Attention'"
   ]
  },
  {
   "cell_type": "code",
   "execution_count": 36,
   "id": "a9073c94",
   "metadata": {},
   "outputs": [],
   "source": [
    "import re\n",
    "\n",
    "for file_name in os.listdir(folder_path):\n",
    "    if file_name.endswith('.xlsx') or file_name.endswith('.xls'):\n",
    "        file_path = os.path.join(folder_path, file_name)\n",
    "        df = pd.read_excel(file_path)\n",
    "\n",
    "        df['Loyalty ID'] = df['Loyalty ID'].astype(str)\n",
    "\n",
    "        df['Loyalty ID'] = df['Loyalty ID'].apply(lambda x: re.findall(r'\\d{10}$', x)[0] if re.findall(r'\\d{10}$', x) else x)\n",
    "\n",
    "        right_join_column = 'Loyalty ID'\n",
    "        df = df.groupby(right_join_column).first().reset_index()\n",
    "\n",
    "        output_file_name = '_' + file_name\n",
    "\n",
    "        output_file_path = os.path.join(folder_path, output_file_name)\n",
    "        df.to_excel(output_file_path, index=False)"
   ]
  }
 ],
 "metadata": {
  "kernelspec": {
   "display_name": "Python 3 (ipykernel)",
   "language": "python",
   "name": "python3"
  },
  "language_info": {
   "codemirror_mode": {
    "name": "ipython",
    "version": 3
   },
   "file_extension": ".py",
   "mimetype": "text/x-python",
   "name": "python",
   "nbconvert_exporter": "python",
   "pygments_lexer": "ipython3",
   "version": "3.10.9"
  }
 },
 "nbformat": 4,
 "nbformat_minor": 5
}
